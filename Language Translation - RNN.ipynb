{
 "cells": [
  {
   "cell_type": "code",
   "execution_count": 47,
   "metadata": {},
   "outputs": [],
   "source": [
    "from io import open\n",
    "import unicodedata\n",
    "import string\n",
    "import re\n",
    "import random"
   ]
  },
  {
   "cell_type": "code",
   "execution_count": 48,
   "metadata": {},
   "outputs": [],
   "source": [
    "import torch\n",
    "import torch.nn as nn\n",
    "from torch import optim\n",
    "import torch.nn.functional as F"
   ]
  },
  {
   "cell_type": "code",
   "execution_count": 49,
   "metadata": {},
   "outputs": [],
   "source": [
    "import matplotlib.pyplot as plt\n",
    "import matplotlib.ticker as ticker\n",
    "import numpy as np\n",
    "%matplotlib inline"
   ]
  },
  {
   "cell_type": "code",
   "execution_count": 3,
   "metadata": {},
   "outputs": [],
   "source": [
    "device = torch.device(\"cuda\" if torch.cuda.is_available() else \"cpu\")"
   ]
  },
  {
   "cell_type": "code",
   "execution_count": 4,
   "metadata": {},
   "outputs": [
    {
     "name": "stdout",
     "output_type": "stream",
     "text": [
      "--2018-12-09 15:18:05--  https://download.pytorch.org/tutorial/data.zip\n",
      "Resolving download.pytorch.org (download.pytorch.org)... 143.204.142.69, 143.204.142.88, 143.204.142.111, ...\n",
      "Connecting to download.pytorch.org (download.pytorch.org)|143.204.142.69|:443... connected.\n",
      "HTTP request sent, awaiting response... 200 OK\n",
      "Length: 2882130 (2.7M) [application/zip]\n",
      "Saving to: ‘data.zip’\n",
      "\n",
      "data.zip            100%[===================>]   2.75M  --.-KB/s    in 0.07s   \n",
      "\n",
      "2018-12-09 15:18:05 (38.6 MB/s) - ‘data.zip’ saved [2882130/2882130]\n",
      "\n"
     ]
    }
   ],
   "source": [
    "!wget https://download.pytorch.org/tutorial/data.zip"
   ]
  },
  {
   "cell_type": "code",
   "execution_count": 5,
   "metadata": {},
   "outputs": [
    {
     "name": "stdout",
     "output_type": "stream",
     "text": [
      "Archive:  data.zip\n",
      "   creating: eng_fra/data/\n",
      "  inflating: eng_fra/data/eng-fra.txt  \n",
      "   creating: eng_fra/data/names/\n",
      "  inflating: eng_fra/data/names/Arabic.txt  \n",
      "  inflating: eng_fra/data/names/Chinese.txt  \n",
      "  inflating: eng_fra/data/names/Czech.txt  \n",
      "  inflating: eng_fra/data/names/Dutch.txt  \n",
      "  inflating: eng_fra/data/names/English.txt  \n",
      "  inflating: eng_fra/data/names/French.txt  \n",
      "  inflating: eng_fra/data/names/German.txt  \n",
      "  inflating: eng_fra/data/names/Greek.txt  \n",
      "  inflating: eng_fra/data/names/Irish.txt  \n",
      "  inflating: eng_fra/data/names/Italian.txt  \n",
      "  inflating: eng_fra/data/names/Japanese.txt  \n",
      "  inflating: eng_fra/data/names/Korean.txt  \n",
      "  inflating: eng_fra/data/names/Polish.txt  \n",
      "  inflating: eng_fra/data/names/Portuguese.txt  \n",
      "  inflating: eng_fra/data/names/Russian.txt  \n",
      "  inflating: eng_fra/data/names/Scottish.txt  \n",
      "  inflating: eng_fra/data/names/Spanish.txt  \n",
      "  inflating: eng_fra/data/names/Vietnamese.txt  \n"
     ]
    }
   ],
   "source": [
    "!unzip data.zip -d eng_fra"
   ]
  },
  {
   "cell_type": "code",
   "execution_count": 6,
   "metadata": {},
   "outputs": [],
   "source": [
    "SOS_token = 0\n",
    "EOS_token = 1\n",
    "\n",
    "class Lang:\n",
    "    def __init__(self, name):\n",
    "        self.name = name\n",
    "        self.word2index = {}\n",
    "        self.word2count = {}\n",
    "        self.index2word = {0: \"SOS\", 1: \"EOS\"}\n",
    "        self.n_words = 2  # Count SOS and EOS\n",
    "\n",
    "    def addSentence(self, sentence):\n",
    "        for word in sentence.split(' '):\n",
    "            self.addWord(word)\n",
    "\n",
    "    def addWord(self, word):\n",
    "        if word not in self.word2index:\n",
    "            self.word2index[word] = self.n_words\n",
    "            self.word2count[word] = 1\n",
    "            self.index2word[self.n_words] = word\n",
    "            self.n_words += 1\n",
    "        else:\n",
    "            self.word2count[word] += 1"
   ]
  },
  {
   "cell_type": "code",
   "execution_count": 7,
   "metadata": {},
   "outputs": [],
   "source": [
    "# Unicode string to ascii\n",
    "def unicodeToAscii(s):\n",
    "    return ''.join(\n",
    "        c for c in unicodedata.normalize('NFD', s)\n",
    "        if unicodedata.category(c) != 'Mn'\n",
    "    )\n",
    "\n",
    "# Lowercase, trim, and remove non-letter characters\n",
    "def normalizeString(s):\n",
    "    s = unicodeToAscii(s.lower().strip())\n",
    "    s = re.sub(r\"([.!?])\", r\" \\1\", s)\n",
    "    s = re.sub(r\"[^a-zA-Z.!?]+\", r\" \", s)\n",
    "    return s"
   ]
  },
  {
   "cell_type": "code",
   "execution_count": 8,
   "metadata": {},
   "outputs": [],
   "source": [
    "def readFile(file, reverse=False):\n",
    "\n",
    "    lines = open(file, encoding='utf-8').read().strip().split('\\n')\n",
    "\n",
    "    # Split into pairs and normalize\n",
    "    pairs = [[normalizeString(s) for s in l.split('\\t')] for l in lines]\n",
    "\n",
    "    if reverse:\n",
    "        pairs = [list(reversed(p)) for p in pairs]\n",
    "\n",
    "    return pairs"
   ]
  },
  {
   "cell_type": "code",
   "execution_count": 13,
   "metadata": {},
   "outputs": [],
   "source": [
    "MAX_LENGTH = 10\n",
    "\n",
    "eng_prefixes = (\n",
    "    \"i am \", \"i m \",\n",
    "    \"he is\", \"he s \",\n",
    "    \"she is\", \"she s\",\n",
    "    \"you are\", \"you re \",\n",
    "    \"we are\", \"we re \",\n",
    "    \"they are\", \"they re \"\n",
    ")\n",
    "\n",
    "\n",
    "def filterPair(p):\n",
    "    return len(p[0].split(' ')) < MAX_LENGTH and \\\n",
    "        len(p[1].split(' ')) < MAX_LENGTH and \\\n",
    "        p[1].startswith(eng_prefixes)\n",
    "\n",
    "\n",
    "def filterPairs(pairs):\n",
    "    return [pair for pair in pairs if filterPair(pair)]"
   ]
  },
  {
   "cell_type": "code",
   "execution_count": 14,
   "metadata": {},
   "outputs": [],
   "source": [
    "def prepareData(file, reverse=False):\n",
    "    pairs = readFile(file, reverse)\n",
    "    print(\"Read %s sentence pairs\" % len(pairs))\n",
    "    pairs = filterPairs(pairs)\n",
    "    print(\"Trimmed to %s sentence pairs\" % len(pairs))\n",
    "    print(\"Counting words...\")\n",
    "    input_lang = Lang('french')\n",
    "    output_lang = Lang('English')\n",
    "    for pair in pairs:\n",
    "        input_lang.addSentence(pair[0])\n",
    "        output_lang.addSentence(pair[1])\n",
    "    print(\"Counted words:\")\n",
    "    print(input_lang.name, input_lang.n_words)\n",
    "    print(output_lang.name, output_lang.n_words)\n",
    "    return input_lang, output_lang, pairs"
   ]
  },
  {
   "cell_type": "code",
   "execution_count": 15,
   "metadata": {},
   "outputs": [
    {
     "name": "stdout",
     "output_type": "stream",
     "text": [
      "Read 135842 sentence pairs\n",
      "Trimmed to 10853 sentence pairs\n",
      "Counting words...\n",
      "Counted words:\n",
      "french 4489\n",
      "English 2925\n",
      "['elles attendent toutes .', 'they re all waiting .']\n"
     ]
    }
   ],
   "source": [
    "input_lang, output_lang, pairs = prepareData('eng_fra/data/eng-fra.txt', True)\n",
    "print(random.choice(pairs))"
   ]
  },
  {
   "cell_type": "code",
   "execution_count": 16,
   "metadata": {},
   "outputs": [],
   "source": [
    "class EncoderRNN(nn.Module):\n",
    "    def __init__(self, input_size, hidden_size):\n",
    "        super(EncoderRNN, self).__init__()\n",
    "        self.hidden_size = hidden_size\n",
    "\n",
    "        self.embedding = nn.Embedding(input_size, hidden_size)\n",
    "        self.gru = nn.GRU(hidden_size, hidden_size)\n",
    "\n",
    "    def forward(self, input, hidden):\n",
    "        embedded = self.embedding(input).view(1, 1, -1)\n",
    "        output = embedded\n",
    "        output, hidden = self.gru(output, hidden)\n",
    "        return output, hidden\n",
    "\n",
    "    def initHidden(self):\n",
    "        return torch.zeros(1, 1, self.hidden_size, device=device)"
   ]
  },
  {
   "cell_type": "code",
   "execution_count": 18,
   "metadata": {},
   "outputs": [],
   "source": [
    "class AttnDecoderRNN(nn.Module):\n",
    "    def __init__(self, hidden_size, output_size, dropout_p=0.1, max_length=MAX_LENGTH):\n",
    "        super(AttnDecoderRNN, self).__init__()\n",
    "        self.hidden_size = hidden_size\n",
    "        self.output_size = output_size\n",
    "        self.dropout_p = dropout_p\n",
    "        self.max_length = max_length\n",
    "\n",
    "        self.embedding = nn.Embedding(self.output_size, self.hidden_size)\n",
    "        self.attn = nn.Linear(self.hidden_size * 2, self.max_length)\n",
    "        self.attn_combine = nn.Linear(self.hidden_size * 2, self.hidden_size)\n",
    "        self.dropout = nn.Dropout(self.dropout_p)\n",
    "        self.gru = nn.GRU(self.hidden_size, self.hidden_size)\n",
    "        self.out = nn.Linear(self.hidden_size, self.output_size)\n",
    "\n",
    "    def forward(self, input, hidden, encoder_outputs):\n",
    "        embeddings = self.embedding(input).view(1, 1, -1)\n",
    "        embeddings_afterDropOut = self.dropout(embeddings)\n",
    "        embeggings_N_hidden = torch.cat((embeddings_afterDropOut[0], hidden[0]), 1)\n",
    "        \n",
    "        attns = self.attn(embeggings_N_hidden)\n",
    "        attn_weights = F.softmax(attns,dim=1)\n",
    "        \n",
    "        attn_applied = torch.bmm(attn_weights.unsqueeze(0), encoder_outputs.unsqueeze(0))\n",
    "        output = torch.cat((embeddings_afterDropOut[0], attn_applied[0]), 1)\n",
    "        output = self.attn_combine(output).unsqueeze(0)\n",
    "        output = F.relu(output)\n",
    "        output, hidden = self.gru(output, hidden)\n",
    "        output = F.log_softmax(self.out(output[0]), dim=1)\n",
    "        return output, hidden, attn_weights\n",
    "\n",
    "    def initHidden(self):\n",
    "        return torch.zeros(1, 1, self.hidden_size, device=device)"
   ]
  },
  {
   "cell_type": "code",
   "execution_count": 19,
   "metadata": {},
   "outputs": [],
   "source": [
    "def indexesFromSentence(lang, sentence):\n",
    "    return [lang.word2index[word] for word in sentence.split(' ')]\n",
    "\n",
    "\n",
    "def tensorFromSentence(lang, sentence):\n",
    "    indexes = indexesFromSentence(lang, sentence)\n",
    "    indexes.append(EOS_token)\n",
    "    return torch.tensor(indexes, dtype=torch.long, device=device).view(-1, 1)\n",
    "\n",
    "\n",
    "def tensorsFromPair(pair):\n",
    "    input_tensor = tensorFromSentence(input_lang, pair[0])\n",
    "    target_tensor = tensorFromSentence(output_lang, pair[1])\n",
    "    return (input_tensor, target_tensor)"
   ]
  },
  {
   "cell_type": "code",
   "execution_count": 20,
   "metadata": {},
   "outputs": [],
   "source": [
    "teacher_forcing_ratio = 0.5\n",
    "def train(input_tensor, target_tensor, encoder, decoder, encoder_optimizer, decoder_optimizer, criterion, max_length=MAX_LENGTH):\n",
    "    \n",
    "    encoder_hidden = encoder.initHidden()\n",
    "\n",
    "    encoder_optimizer.zero_grad()\n",
    "    decoder_optimizer.zero_grad()\n",
    "\n",
    "    input_length = input_tensor.size(0)\n",
    "    target_length = target_tensor.size(0)\n",
    "\n",
    "    encoder_outputs = torch.zeros(max_length, encoder.hidden_size, device=device)\n",
    "\n",
    "    loss = 0\n",
    "\n",
    "    for ei in range(input_length):\n",
    "        encoder_output, encoder_hidden = encoder(input_tensor[ei], encoder_hidden)\n",
    "        encoder_outputs[ei] = encoder_output[0, 0]\n",
    "\n",
    "    decoder_input = torch.tensor([[SOS_token]], device=device)\n",
    "    decoder_hidden = encoder_hidden\n",
    "\n",
    "    use_teacher_forcing = True if random.random() < teacher_forcing_ratio else False\n",
    "\n",
    "    if use_teacher_forcing:\n",
    "        # Teacher forcing: Feed the target as the next input\n",
    "        for di in range(target_length):\n",
    "            decoder_output, decoder_hidden, decoder_attention = decoder(decoder_input, decoder_hidden, encoder_outputs)\n",
    "            loss += criterion(decoder_output, target_tensor[di])\n",
    "            decoder_input = target_tensor[di]  # Teacher forcing\n",
    "\n",
    "    else:\n",
    "        # Without teacher forcing: use its own predictions as the next input\n",
    "        for di in range(target_length):\n",
    "            decoder_output, decoder_hidden, decoder_attention = decoder(decoder_input, decoder_hidden, encoder_outputs)\n",
    "            topv, topi = decoder_output.topk(1)\n",
    "            decoder_input = topi.squeeze().detach()  # detach from history as input\n",
    "\n",
    "            loss += criterion(decoder_output, target_tensor[di])\n",
    "            if decoder_input.item() == EOS_token:\n",
    "                break\n",
    "\n",
    "    loss.backward()\n",
    "\n",
    "    encoder_optimizer.step()\n",
    "    decoder_optimizer.step()\n",
    "\n",
    "    return loss.item() / target_length"
   ]
  },
  {
   "cell_type": "code",
   "execution_count": 21,
   "metadata": {},
   "outputs": [],
   "source": [
    "import time\n",
    "import math\n",
    "\n",
    "\n",
    "def asMinutes(s):\n",
    "    m = math.floor(s / 60)\n",
    "    s -= m * 60\n",
    "    return '%dm %ds' % (m, s)\n",
    "\n",
    "\n",
    "def timeSince(since, percent):\n",
    "    now = time.time()\n",
    "    s = now - since\n",
    "    es = s / (percent)\n",
    "    rs = es - s\n",
    "    return '%s (- %s)' % (asMinutes(s), asMinutes(rs))"
   ]
  },
  {
   "cell_type": "code",
   "execution_count": 22,
   "metadata": {},
   "outputs": [],
   "source": [
    "def trainIters(encoder, decoder, n_iters, print_every=1000, plot_every=100, learning_rate=0.01):\n",
    "    start = time.time()\n",
    "    plot_losses = []\n",
    "    print_loss_total = 0  # Reset every print_every\n",
    "    plot_loss_total = 0  # Reset every plot_every\n",
    "\n",
    "    encoder_optimizer = optim.SGD(encoder.parameters(), lr=learning_rate)\n",
    "    decoder_optimizer = optim.SGD(decoder.parameters(), lr=learning_rate)\n",
    "    training_pairs = [tensorsFromPair(random.choice(pairs)) for i in range(n_iters)]\n",
    "    criterion = nn.NLLLoss()\n",
    "\n",
    "    for iter in range(1, n_iters + 1):\n",
    "        training_pair = training_pairs[iter - 1]\n",
    "        input_tensor = training_pair[0]\n",
    "        target_tensor = training_pair[1]\n",
    "\n",
    "        loss = train(input_tensor, target_tensor, encoder, decoder, encoder_optimizer, decoder_optimizer, criterion)\n",
    "        print_loss_total += loss\n",
    "        plot_loss_total += loss\n",
    "\n",
    "        if iter % print_every == 0:\n",
    "            print_loss_avg = print_loss_total / print_every\n",
    "            print_loss_total = 0\n",
    "            print('%s (%d %d%%) %.4f' % (timeSince(start, iter / n_iters),\n",
    "                                         iter, iter / n_iters * 100, print_loss_avg))\n",
    "\n",
    "        if iter % plot_every == 0:\n",
    "            plot_loss_avg = plot_loss_total / plot_every\n",
    "            plot_losses.append(plot_loss_avg)\n",
    "            plot_loss_total = 0\n",
    "\n",
    "    showPlot(plot_losses)"
   ]
  },
  {
   "cell_type": "code",
   "execution_count": 54,
   "metadata": {},
   "outputs": [],
   "source": [
    "plt.switch_backend('agg')\n",
    "\n",
    "def showPlot(points):\n",
    "    plt.figure()\n",
    "    fig, ax = plt.subplots()\n",
    "    loc = ticker.MultipleLocator(base=0.2)\n",
    "    ax.yaxis.set_major_locator(loc)\n",
    "    plt.plot(points)\n",
    "    plt.show()"
   ]
  },
  {
   "cell_type": "code",
   "execution_count": 25,
   "metadata": {},
   "outputs": [],
   "source": [
    "def evaluate(encoder, decoder, sentence, max_length=MAX_LENGTH):\n",
    "    with torch.no_grad():\n",
    "        input_tensor = tensorFromSentence(input_lang, sentence)\n",
    "        input_length = input_tensor.size()[0]\n",
    "        encoder_hidden = encoder.initHidden()\n",
    "\n",
    "        encoder_outputs = torch.zeros(max_length, encoder.hidden_size, device=device)\n",
    "\n",
    "        for ei in range(input_length):\n",
    "            encoder_output, encoder_hidden = encoder(input_tensor[ei], encoder_hidden)\n",
    "            encoder_outputs[ei] += encoder_output[0, 0]\n",
    "\n",
    "        decoder_input = torch.tensor([[SOS_token]], device=device)  # SOS\n",
    "\n",
    "        decoder_hidden = encoder_hidden\n",
    "\n",
    "        decoded_words = []\n",
    "        decoder_attentions = torch.zeros(max_length, max_length)\n",
    "\n",
    "        for di in range(max_length):\n",
    "            decoder_output, decoder_hidden, decoder_attention = decoder(decoder_input, decoder_hidden, encoder_outputs)\n",
    "            decoder_attentions[di] = decoder_attention.data\n",
    "            topv, topi = decoder_output.data.topk(1)\n",
    "            if topi.item() == EOS_token:\n",
    "                decoded_words.append('<EOS>')\n",
    "                break\n",
    "            else:\n",
    "                decoded_words.append(output_lang.index2word[topi.item()])\n",
    "\n",
    "            decoder_input = topi.squeeze().detach()\n",
    "\n",
    "        return decoded_words, decoder_attentions[:di + 1]"
   ]
  },
  {
   "cell_type": "code",
   "execution_count": 26,
   "metadata": {},
   "outputs": [],
   "source": [
    "def evaluateRandomly(encoder, decoder, n=10):\n",
    "    for i in range(n):\n",
    "        pair = random.choice(pairs)\n",
    "        print('>', pair[0])\n",
    "        print('=', pair[1])\n",
    "        output_words, attentions = evaluate(encoder, decoder, pair[0])\n",
    "        output_sentence = ' '.join(output_words)\n",
    "        print('<', output_sentence)\n",
    "        print('')"
   ]
  },
  {
   "cell_type": "code",
   "execution_count": 27,
   "metadata": {},
   "outputs": [
    {
     "name": "stdout",
     "output_type": "stream",
     "text": [
      "0m 0s (- 0m 15s) (50 5%) 5.4716\n",
      "0m 1s (- 0m 14s) (100 10%) 3.9732\n",
      "0m 2s (- 0m 13s) (150 15%) 3.7305\n",
      "0m 3s (- 0m 12s) (200 20%) 3.2805\n",
      "0m 3s (- 0m 11s) (250 25%) 3.5100\n",
      "0m 4s (- 0m 10s) (300 30%) 3.5416\n",
      "0m 5s (- 0m 10s) (350 35%) 3.4972\n",
      "0m 6s (- 0m 9s) (400 40%) 3.3588\n",
      "0m 7s (- 0m 8s) (450 45%) 3.5230\n",
      "0m 7s (- 0m 7s) (500 50%) 3.3450\n",
      "0m 8s (- 0m 7s) (550 55%) 3.4426\n",
      "0m 9s (- 0m 6s) (600 60%) 3.2351\n",
      "0m 10s (- 0m 5s) (650 65%) 3.3165\n",
      "0m 11s (- 0m 4s) (700 70%) 3.2423\n",
      "0m 12s (- 0m 4s) (750 75%) 3.2791\n",
      "0m 12s (- 0m 3s) (800 80%) 3.1603\n",
      "0m 13s (- 0m 2s) (850 85%) 3.3636\n",
      "0m 14s (- 0m 1s) (900 90%) 3.2888\n",
      "0m 15s (- 0m 0s) (950 95%) 3.0773\n",
      "0m 16s (- 0m 0s) (1000 100%) 3.1048\n"
     ]
    }
   ],
   "source": [
    "hidden_size = 256\n",
    "encoder = EncoderRNN(input_lang.n_words, hidden_size).to(device)\n",
    "attn_decoder = AttnDecoderRNN(hidden_size, output_lang.n_words, dropout_p=0.1).to(device)\n",
    "trainIters(encoder, attn_decoder, 1000, print_every=50)"
   ]
  },
  {
   "cell_type": "code",
   "execution_count": 29,
   "metadata": {},
   "outputs": [
    {
     "name": "stdout",
     "output_type": "stream",
     "text": [
      "0m 11s (- 25m 29s) (500 0%) 3.0573\n",
      "0m 20s (- 21m 45s) (1000 1%) 2.8416\n",
      "0m 29s (- 20m 50s) (1500 2%) 2.8226\n",
      "0m 38s (- 20m 7s) (2000 3%) 2.7697\n",
      "0m 46s (- 19m 33s) (2500 3%) 2.7386\n",
      "0m 56s (- 19m 21s) (3000 4%) 2.6437\n",
      "1m 4s (- 19m 2s) (3500 5%) 2.5636\n",
      "1m 13s (- 18m 46s) (4000 6%) 2.4661\n",
      "1m 22s (- 18m 29s) (4500 6%) 2.4940\n",
      "1m 31s (- 18m 14s) (5000 7%) 2.4663\n",
      "1m 40s (- 18m 3s) (5500 8%) 2.4397\n",
      "1m 49s (- 17m 54s) (6000 9%) 2.3550\n",
      "1m 58s (- 17m 47s) (6500 10%) 2.3177\n",
      "2m 7s (- 17m 34s) (7000 10%) 2.3071\n",
      "2m 16s (- 17m 27s) (7500 11%) 2.2616\n",
      "2m 25s (- 17m 18s) (8000 12%) 2.2304\n",
      "2m 34s (- 17m 7s) (8500 13%) 2.2175\n",
      "2m 43s (- 16m 57s) (9000 13%) 2.1937\n",
      "2m 52s (- 16m 45s) (9500 14%) 2.0883\n",
      "3m 1s (- 16m 35s) (10000 15%) 2.1967\n",
      "3m 10s (- 16m 26s) (10500 16%) 2.1267\n",
      "3m 18s (- 16m 16s) (11000 16%) 2.0829\n",
      "3m 28s (- 16m 7s) (11500 17%) 2.0170\n",
      "3m 36s (- 15m 57s) (12000 18%) 1.9936\n",
      "3m 45s (- 15m 47s) (12500 19%) 1.9308\n",
      "3m 54s (- 15m 37s) (13000 20%) 1.8848\n",
      "4m 3s (- 15m 27s) (13500 20%) 1.9383\n",
      "4m 12s (- 15m 18s) (14000 21%) 1.9609\n",
      "4m 21s (- 15m 9s) (14500 22%) 1.7326\n",
      "4m 29s (- 14m 59s) (15000 23%) 1.8719\n",
      "4m 38s (- 14m 50s) (15500 23%) 1.8131\n",
      "4m 47s (- 14m 40s) (16000 24%) 1.7568\n",
      "4m 56s (- 14m 31s) (16500 25%) 1.7790\n",
      "5m 5s (- 14m 22s) (17000 26%) 1.6715\n",
      "5m 14s (- 14m 12s) (17500 26%) 1.6863\n",
      "5m 22s (- 14m 3s) (18000 27%) 1.6667\n",
      "5m 31s (- 13m 53s) (18500 28%) 1.6955\n",
      "5m 40s (- 13m 44s) (19000 29%) 1.6215\n",
      "5m 49s (- 13m 35s) (19500 30%) 1.6463\n",
      "5m 58s (- 13m 25s) (20000 30%) 1.6613\n",
      "6m 7s (- 13m 17s) (20500 31%) 1.5373\n",
      "6m 16s (- 13m 8s) (21000 32%) 1.6674\n",
      "6m 25s (- 12m 59s) (21500 33%) 1.5877\n",
      "6m 34s (- 12m 50s) (22000 33%) 1.6428\n",
      "6m 43s (- 12m 42s) (22500 34%) 1.5438\n",
      "6m 52s (- 12m 32s) (23000 35%) 1.4118\n",
      "7m 1s (- 12m 23s) (23500 36%) 1.5714\n",
      "7m 9s (- 12m 14s) (24000 36%) 1.4198\n",
      "7m 18s (- 12m 5s) (24500 37%) 1.4556\n",
      "7m 27s (- 11m 56s) (25000 38%) 1.4641\n",
      "7m 36s (- 11m 46s) (25500 39%) 1.4040\n",
      "7m 45s (- 11m 37s) (26000 40%) 1.4447\n",
      "7m 54s (- 11m 29s) (26500 40%) 1.3636\n",
      "8m 3s (- 11m 20s) (27000 41%) 1.3800\n",
      "8m 12s (- 11m 11s) (27500 42%) 1.3011\n",
      "8m 21s (- 11m 2s) (28000 43%) 1.3032\n",
      "8m 30s (- 10m 53s) (28500 43%) 1.3188\n",
      "8m 39s (- 10m 45s) (29000 44%) 1.3471\n",
      "8m 48s (- 10m 36s) (29500 45%) 1.2357\n",
      "8m 57s (- 10m 27s) (30000 46%) 1.2662\n",
      "9m 6s (- 10m 18s) (30500 46%) 1.3293\n",
      "9m 15s (- 10m 9s) (31000 47%) 1.2441\n",
      "9m 24s (- 10m 0s) (31500 48%) 1.2963\n",
      "9m 33s (- 9m 51s) (32000 49%) 1.2577\n",
      "9m 42s (- 9m 42s) (32500 50%) 1.2626\n",
      "9m 51s (- 9m 33s) (33000 50%) 1.2921\n",
      "10m 0s (- 9m 24s) (33500 51%) 1.1603\n",
      "10m 8s (- 9m 15s) (34000 52%) 1.1337\n",
      "10m 17s (- 9m 6s) (34500 53%) 1.1652\n",
      "10m 26s (- 8m 57s) (35000 53%) 1.1144\n",
      "10m 35s (- 8m 48s) (35500 54%) 1.1466\n",
      "10m 44s (- 8m 39s) (36000 55%) 1.0980\n",
      "10m 53s (- 8m 30s) (36500 56%) 1.0780\n",
      "11m 2s (- 8m 21s) (37000 56%) 1.1225\n",
      "11m 11s (- 8m 12s) (37500 57%) 1.0484\n",
      "11m 20s (- 8m 3s) (38000 58%) 1.1220\n",
      "11m 29s (- 7m 54s) (38500 59%) 1.0463\n",
      "11m 37s (- 7m 45s) (39000 60%) 1.0628\n",
      "11m 46s (- 7m 36s) (39500 60%) 1.1490\n",
      "11m 55s (- 7m 27s) (40000 61%) 1.0830\n",
      "12m 4s (- 7m 18s) (40500 62%) 1.0304\n",
      "12m 13s (- 7m 9s) (41000 63%) 1.0438\n",
      "12m 22s (- 7m 0s) (41500 63%) 1.0115\n",
      "12m 31s (- 6m 51s) (42000 64%) 1.0143\n",
      "12m 40s (- 6m 42s) (42500 65%) 0.9921\n",
      "12m 49s (- 6m 33s) (43000 66%) 0.9850\n",
      "12m 57s (- 6m 24s) (43500 66%) 0.9443\n",
      "13m 6s (- 6m 15s) (44000 67%) 1.0086\n",
      "13m 16s (- 6m 6s) (44500 68%) 1.0131\n",
      "13m 26s (- 5m 58s) (45000 69%) 1.0255\n",
      "13m 35s (- 5m 49s) (45500 70%) 0.9894\n",
      "13m 44s (- 5m 40s) (46000 70%) 0.9919\n",
      "13m 53s (- 5m 31s) (46500 71%) 0.8848\n",
      "14m 3s (- 5m 22s) (47000 72%) 0.9139\n",
      "14m 12s (- 5m 14s) (47500 73%) 0.9297\n",
      "14m 21s (- 5m 5s) (48000 73%) 0.9267\n",
      "14m 31s (- 4m 56s) (48500 74%) 0.9019\n",
      "14m 40s (- 4m 47s) (49000 75%) 0.9752\n",
      "14m 49s (- 4m 38s) (49500 76%) 0.8815\n",
      "14m 59s (- 4m 29s) (50000 76%) 0.8011\n",
      "15m 8s (- 4m 20s) (50500 77%) 0.8533\n",
      "15m 18s (- 4m 12s) (51000 78%) 0.8314\n",
      "15m 27s (- 4m 3s) (51500 79%) 0.8011\n",
      "15m 37s (- 3m 54s) (52000 80%) 0.8000\n",
      "15m 46s (- 3m 45s) (52500 80%) 0.9243\n",
      "15m 55s (- 3m 36s) (53000 81%) 0.7973\n",
      "16m 5s (- 3m 27s) (53500 82%) 0.8274\n",
      "16m 14s (- 3m 18s) (54000 83%) 0.7951\n",
      "16m 23s (- 3m 9s) (54500 83%) 0.8525\n",
      "16m 32s (- 3m 0s) (55000 84%) 0.7721\n",
      "16m 42s (- 2m 51s) (55500 85%) 0.8329\n",
      "16m 51s (- 2m 42s) (56000 86%) 0.7558\n",
      "17m 1s (- 2m 33s) (56500 86%) 0.8029\n",
      "17m 10s (- 2m 24s) (57000 87%) 0.8037\n",
      "17m 20s (- 2m 15s) (57500 88%) 0.7769\n",
      "17m 29s (- 2m 6s) (58000 89%) 0.7516\n",
      "17m 39s (- 1m 57s) (58500 90%) 0.7190\n",
      "17m 48s (- 1m 48s) (59000 90%) 0.7720\n",
      "17m 57s (- 1m 39s) (59500 91%) 0.7554\n",
      "18m 6s (- 1m 30s) (60000 92%) 0.7450\n",
      "18m 16s (- 1m 21s) (60500 93%) 0.7080\n",
      "18m 25s (- 1m 12s) (61000 93%) 0.6777\n",
      "18m 35s (- 1m 3s) (61500 94%) 0.6680\n",
      "18m 44s (- 0m 54s) (62000 95%) 0.7299\n",
      "18m 54s (- 0m 45s) (62500 96%) 0.7152\n",
      "19m 3s (- 0m 36s) (63000 96%) 0.6600\n",
      "19m 13s (- 0m 27s) (63500 97%) 0.6774\n",
      "19m 22s (- 0m 18s) (64000 98%) 0.6578\n",
      "19m 31s (- 0m 9s) (64500 99%) 0.6443\n",
      "19m 41s (- 0m 0s) (65000 100%) 0.6753\n"
     ]
    }
   ],
   "source": [
    "trainIters(encoder, attn_decoder, 65000, print_every=500)"
   ]
  },
  {
   "cell_type": "code",
   "execution_count": 55,
   "metadata": {},
   "outputs": [
    {
     "name": "stdout",
     "output_type": "stream",
     "text": [
      "0m 5s (- 0m 12s) (300 30%) 0.7274\n",
      "0m 10s (- 0m 7s) (600 60%) 0.6266\n",
      "0m 16s (- 0m 1s) (900 90%) 0.6612\n"
     ]
    },
    {
     "data": {
      "text/plain": [
       "<Figure size 432x288 with 0 Axes>"
      ]
     },
     "metadata": {},
     "output_type": "display_data"
    },
    {
     "data": {
      "image/png": "[encoded data removed]",
      "text/plain": [
       "<Figure size 432x288 with 1 Axes>"
      ]
     },
     "metadata": {
      "needs_background": "light"
     },
     "output_type": "display_data"
    }
   ],
   "source": [
    "trainIters(encoder, attn_decoder, 1000, print_every=300)"
   ]
  },
  {
   "cell_type": "code",
   "execution_count": 56,
   "metadata": {},
   "outputs": [
    {
     "name": "stdout",
     "output_type": "stream",
     "text": [
      "> vous etes imprudent .\n",
      "= you re foolish .\n",
      "< you re foolish . <EOS>\n",
      "\n",
      "> il joue au golf .\n",
      "= he is playing golf .\n",
      "< he is playing playing . <EOS>\n",
      "\n",
      "> tu es occupe en ce moment ?\n",
      "= you are busy now aren t you ?\n",
      "< you are busy now aren . <EOS>\n",
      "\n",
      "> c est un maniaque du controle .\n",
      "= he s a control freak .\n",
      "< he s a control from . <EOS>\n",
      "\n",
      "> nous ne sommes pas du coin .\n",
      "= we re not from around here .\n",
      "< we re not from around . <EOS>\n",
      "\n",
      "> vous etes le meilleur .\n",
      "= you re the greatest .\n",
      "< you re the greatest . <EOS>\n",
      "\n",
      "> nous sortons ensemble .\n",
      "= we re dating .\n",
      "< we re going back . <EOS>\n",
      "\n",
      "> je suis un peu desoriente .\n",
      "= i m a little confused .\n",
      "< i m a little bit . <EOS>\n",
      "\n",
      "> il n est pas du tout satisfait .\n",
      "= he isn t happy at all .\n",
      "< he is not satisfied at all . <EOS>\n",
      "\n",
      "> elles sont nerveuses .\n",
      "= they re jittery .\n",
      "< they re jittery . <EOS>\n",
      "\n"
     ]
    }
   ],
   "source": [
    "evaluateRandomly(encoder, attn_decoder)"
   ]
  },
  {
   "cell_type": "code",
   "execution_count": 57,
   "metadata": {},
   "outputs": [
    {
     "data": {
      "image/png": "[encoded data removed]",
      "text/plain": [
       "<Figure size 576x288 with 1 Axes>"
      ]
     },
     "metadata": {
      "needs_background": "light"
     },
     "output_type": "display_data"
    },
    {
     "data": {
      "text/plain": [
       "<Figure size 432x288 with 0 Axes>"
      ]
     },
     "metadata": {},
     "output_type": "display_data"
    }
   ],
   "source": [
    "output_words, attentions = evaluate(encoder, attn_decoder, \"je suis trop froid .\")\n",
    "plt.matshow(attentions.numpy())\n",
    "plt.figure()\n",
    "plt.show()"
   ]
  },
  {
   "cell_type": "code",
   "execution_count": 58,
   "metadata": {},
   "outputs": [
    {
     "name": "stdout",
     "output_type": "stream",
     "text": [
      "torch.Size([5, 10])\n"
     ]
    },
    {
     "data": {
      "text/plain": [
       "tensor([[ 6.6925e-05,  9.9917e-01,  6.0122e-04,  1.8251e-05,  1.7549e-07,\n",
       "          8.4584e-05,  5.1501e-05,  1.5191e-08,  1.7068e-06,  4.6021e-06],\n",
       "        [ 1.1898e-06,  1.6963e-06,  9.9829e-01,  6.6800e-05,  5.6517e-11,\n",
       "          4.5454e-10,  3.8234e-09,  1.6158e-03,  2.6193e-05,  2.9606e-06],\n",
       "        [ 1.2203e-07,  9.3102e-08,  2.9129e-06,  9.9925e-01,  7.3995e-04,\n",
       "          2.6909e-11,  2.9902e-14,  3.8014e-08,  5.7700e-06,  7.1296e-07],\n",
       "        [ 1.6093e-10,  6.3041e-10,  1.7564e-09,  8.4006e-10,  1.0000e+00,\n",
       "          1.0141e-06,  3.9702e-10,  3.3980e-13,  9.3375e-12,  1.7953e-10],\n",
       "        [ 1.8114e-05,  2.4354e-06,  1.6358e-06,  1.4422e-07,  2.0307e-08,\n",
       "          9.9961e-01,  2.5396e-09,  3.2889e-07,  3.6132e-04,  5.1360e-06]])"
      ]
     },
     "execution_count": 58,
     "metadata": {},
     "output_type": "execute_result"
    }
   ],
   "source": [
    "print(attentions.shape)\n",
    "attentions"
   ]
  },
  {
   "cell_type": "code",
   "execution_count": 59,
   "metadata": {},
   "outputs": [
    {
     "name": "stdout",
     "output_type": "stream",
     "text": [
      "input = elle a cinq ans de moins que moi .\n",
      "output = she s five years younger than me am . <EOS>\n",
      "input = elle est trop petit .\n",
      "output = she s too short . <EOS>\n",
      "input = je ne crains pas de mourir .\n",
      "output = i m not scared to die . <EOS>\n",
      "input = c est un jeune directeur plein de talent .\n",
      "output = he s a young young s young . <EOS>\n"
     ]
    },
    {
     "data": {
      "image/png": "[encoded data removed]",
      "text/plain": [
       "<Figure size 432x288 with 2 Axes>"
      ]
     },
     "metadata": {
      "needs_background": "light"
     },
     "output_type": "display_data"
    },
    {
     "data": {
      "image/png": "[encoded data removed]",
      "text/plain": [
       "<Figure size 432x288 with 2 Axes>"
      ]
     },
     "metadata": {
      "needs_background": "light"
     },
     "output_type": "display_data"
    },
    {
     "data": {
      "image/png": "[encoded data removed]",
      "text/plain": [
       "<Figure size 432x288 with 2 Axes>"
      ]
     },
     "metadata": {
      "needs_background": "light"
     },
     "output_type": "display_data"
    },
    {
     "data": {
      "image/png": "[encoded data removed]",
      "text/plain": [
       "<Figure size 432x288 with 2 Axes>"
      ]
     },
     "metadata": {
      "needs_background": "light"
     },
     "output_type": "display_data"
    }
   ],
   "source": [
    "def showAttention(input_sentence, output_words, attentions):\n",
    "    # Set up figure with colorbar\n",
    "    fig = plt.figure()\n",
    "    ax = fig.add_subplot(111)\n",
    "    cax = ax.matshow(attentions.numpy(), cmap='bone')\n",
    "    fig.colorbar(cax)\n",
    "\n",
    "    # Set up axes\n",
    "    ax.set_xticklabels([''] + input_sentence.split(' ') + ['<EOS>'], rotation=90)\n",
    "    ax.set_yticklabels([''] + output_words)\n",
    "\n",
    "    # Show label at every tick\n",
    "    ax.xaxis.set_major_locator(ticker.MultipleLocator(1))\n",
    "    ax.yaxis.set_major_locator(ticker.MultipleLocator(1))\n",
    "\n",
    "    plt.show()\n",
    "\n",
    "\n",
    "def evaluateAndShowAttention(input_sentence):\n",
    "    output_words, attentions = evaluate(encoder, attn_decoder, input_sentence)\n",
    "    print('input =', input_sentence)\n",
    "    print('output =', ' '.join(output_words))\n",
    "    showAttention(input_sentence, output_words, attentions)\n",
    "\n",
    "\n",
    "evaluateAndShowAttention(\"elle a cinq ans de moins que moi .\")\n",
    "\n",
    "evaluateAndShowAttention(\"elle est trop petit .\")\n",
    "\n",
    "evaluateAndShowAttention(\"je ne crains pas de mourir .\")\n",
    "\n",
    "evaluateAndShowAttention(\"c est un jeune directeur plein de talent .\")"
   ]
  },
  {
   "cell_type": "code",
   "execution_count": null,
   "metadata": {
    "collapsed": true
   },
   "outputs": [],
   "source": []
  }
 ],
 "metadata": {
  "kernelspec": {
   "display_name": "Python 3",
   "language": "python",
   "name": "python3"
  },
  "language_info": {
   "codemirror_mode": {
    "name": "ipython",
    "version": 3
   },
   "file_extension": ".py",
   "mimetype": "text/x-python",
   "name": "python",
   "nbconvert_exporter": "python",
   "pygments_lexer": "ipython3",
   "version": "3.6.6"
  }
 },
 "nbformat": 4,
 "nbformat_minor": 2
}
